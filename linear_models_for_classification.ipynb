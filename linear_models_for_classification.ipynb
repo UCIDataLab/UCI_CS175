{
 "cells": [
  {
   "cell_type": "markdown",
   "metadata": {},
   "source": [
    "# Linear Models for Classification \n",
    "## CS175 Discussion #2,  Jan. 17th, 2018\n",
    "Author: [Eric Nalisnick](http://www.ics.uci.edu/~enalisni/)"
   ]
  },
  {
   "cell_type": "markdown",
   "metadata": {},
   "source": [
    "### Goals of this Lesson\n",
    "- Extend the regression framework to support classification\n",
    "    - Logistic Regression\n",
    "    - Training with Gradient Descent\n",
    "    \n",
    "- Implement... \n",
    "    - An instantiation of SciKit-Learn's Logistic regression class\n",
    "\n",
    "### References \n",
    "- Chapter 4 of [*Elements of Statistical Learning* by Hastie, Tibshirani, Friedman](https://web.stanford.edu/~hastie/Papers/ESLII.pdf) \n",
    "- [SciKit-Learn's Logistic Regression Documentation](http://scikit-learn.org/stable/modules/generated/sklearn.linear_model.LogisticRegression.html)\n",
    "- [A Few Useful Things to Know about Machine Learning](https://homes.cs.washington.edu/~pedrod/papers/cacm12.pdf)\n",
    "\n",
    "## 0.  Python Preliminaries\n",
    "As usual, first we need to import Numpy, Pandas, MatPlotLib..."
   ]
  },
  {
   "cell_type": "code",
   "execution_count": 14,
   "metadata": {},
   "outputs": [],
   "source": [
    "from IPython.display import Image\n",
    "import matplotlib.pyplot as plt\n",
    "import numpy as np\n",
    "import pandas as pd\n",
    "import time\n",
    "%matplotlib inline"
   ]
  },
  {
   "cell_type": "markdown",
   "metadata": {},
   "source": [
    "I've created two functions that we'll use later to visualize which datapoints are being assigned to which classes.  They are a bit messy and not essential to the material so don't worry about understanding them.  I'll be happy to explain them to anyone interested during office hours.  "
   ]
  },
  {
   "cell_type": "code",
   "execution_count": 15,
   "metadata": {},
   "outputs": [],
   "source": [
    "from matplotlib.colors import ListedColormap\n",
    "\n",
    "# A somewhat complicated function to make pretty plots\n",
    "def plot_classification_data(data1, data2, beta, logistic_flag=False):\n",
    "    plt.figure()\n",
    "    grid_size = .2\n",
    "    features = np.vstack((data1, data2))\n",
    "    # generate a grid over the plot\n",
    "    x_min, x_max = features[:, 0].min() - .5, features[:, 0].max() + .5\n",
    "    y_min, y_max = features[:, 1].min() - .5, features[:, 1].max() + .5\n",
    "    xx, yy = np.meshgrid(np.arange(x_min, x_max, grid_size), np.arange(y_min, y_max, grid_size))\n",
    "    # color the grid based on the predictions \n",
    "    if logistic_flag:\n",
    "        Z = logistic(np.dot(np.c_[xx.ravel(), yy.ravel(), np.ones(xx.ravel().shape[0])], beta))\n",
    "        colorbar_label=r\"Value of f($X \\beta)$\"\n",
    "    else:\n",
    "        Z = np.dot(np.c_[xx.ravel(), yy.ravel(), np.ones(xx.ravel().shape[0])], beta)\n",
    "        colorbar_label=r\"Value of $X \\beta$\"\n",
    "    Z = Z.reshape(xx.shape)\n",
    "    background_img = plt.pcolormesh(xx, yy, Z, cmap=plt.cm.coolwarm)\n",
    "    \n",
    "    # Also plot the training points\n",
    "    plt.scatter(class1_features[:, 0], class1_features[:, 1], c='b', edgecolors='k', s=70)\n",
    "    plt.scatter(class2_features[:, 0], class2_features[:, 1], c='r', edgecolors='k', s=70)\n",
    "    plt.title('Data with Class Prediction Intensities')\n",
    "    plt.xlabel('Feature 1')\n",
    "    plt.ylabel('Feature 2')\n",
    "    color_bar = plt.colorbar(background_img, orientation='horizontal')\n",
    "    color_bar.set_label(colorbar_label)\n",
    "    plt.xlim(xx.min(), xx.max())\n",
    "    plt.ylim(yy.min(), yy.max())\n",
    "    plt.xticks(())\n",
    "    plt.yticks(())\n",
    "    plt.show()\n",
    "\n",
    "# Another messy looking function to make pretty plots of basketball courts\n",
    "def visualize_court(log_reg_model, court_image = './data/nba_experiment/nba_court.png'):\n",
    "    two_class_cmap = ListedColormap(['#FFAAAA', '#AAFFAA']) # light red for miss, light green for make\n",
    "    x_min, x_max = 0, 50 #width (feet) of NBA court\n",
    "    y_min, y_max = 0, 47 #length (feet) of NBA half-court\n",
    "    grid_step_size = 0.2\n",
    "    grid_x, grid_y = np.meshgrid(np.arange(x_min, x_max, grid_step_size), np.arange(y_min, y_max, grid_step_size))\n",
    "    grid_predictions = log_reg_model.predict(np.c_[grid_x.ravel(), grid_y.ravel()])\n",
    "    grid_predictions = grid_predictions.reshape(grid_x.shape)\n",
    "    fig, ax = plt.subplots()\n",
    "    court_image = plt.imread(court_image)\n",
    "    ax.imshow(court_image, interpolation='bilinear', origin='lower',extent=[x_min,x_max,y_min,y_max])\n",
    "    ax.imshow(grid_predictions, cmap=two_class_cmap, interpolation = 'nearest',\n",
    "              alpha = 0.60, origin='lower',extent=[x_min,x_max,y_min,y_max])\n",
    "    plt.xlim(x_min, x_max)\n",
    "    plt.ylim(y_min, y_max)\n",
    "    plt.title( \"Make / Miss Prediction Boundaries\" )\n",
    "    plt.show()"
   ]
  },
  {
   "cell_type": "markdown",
   "metadata": {},
   "source": [
    "## 1.  Classes as Targets\n",
    "\n",
    "We turn to classification: assigning a datapoint $\\mathbf{x}_{i}$ to one of multiple classes.  Let's define some helper functions that we'll use throughout---one for shuffling, one for calculating classification error.  Classification error is defined as: \n",
    "\\begin{eqnarray*}\n",
    "\\frac{\\sum_{i=1}^{N_{test}} g(\\hat y_{i}, y_{i})}{N_{test}} \\ \\  \\text{  where  } \\ \\ \n",
    "g(\\hat y_{i}, y_{i}) = \\begin{cases} 1, & \\text{if $y_{i}\\ne$ round($\\hat y_{i}$).}\\\\0, & \\text{otherwise}.\\end{cases}\n",
    "\\end{eqnarray*}\n",
    "where $\\hat y_{i} \\in (0, 1)$ is our model's prediction of label $y_{i} \\in \\{0,1\\}$ and round() sends $\\hat y_{i}$ to 0 or 1, whichever is closer..."
   ]
  },
  {
   "cell_type": "code",
   "execution_count": 16,
   "metadata": {},
   "outputs": [],
   "source": [
    "### function for shuffling the data and labels\n",
    "def shuffle_in_unison(a, b):\n",
    "    rng_state = np.random.get_state()\n",
    "    np.random.shuffle(a)\n",
    "    np.random.set_state(rng_state)\n",
    "    np.random.shuffle(b)\n",
    "    \n",
    "### calculate classification errors\n",
    "# return a percentage: (number misclassified)/(total number of datapoints)\n",
    "def calc_classification_error(predictions, class_labels):\n",
    "    n = predictions.size\n",
    "    num_of_errors = 0.\n",
    "    for idx in range(n):\n",
    "        if (predictions[idx] >= 0.5 and class_labels[idx]==0) or (predictions[idx] < 0.5 and class_labels[idx]==1):\n",
    "            num_of_errors += 1\n",
    "    return num_of_errors/n"
   ]
  },
  {
   "cell_type": "markdown",
   "metadata": {},
   "source": [
    "Next let's generate some artificial data, representing class \\#1 as $y_{i}=0$ and class \\#2 as $y_{i}=1$..."
   ]
  },
  {
   "cell_type": "code",
   "execution_count": 17,
   "metadata": {},
   "outputs": [],
   "source": [
    "# set the random number generator for reproducability\n",
    "np.random.seed(182)\n",
    "\n",
    "#### create artificial data\n",
    "N = 400\n",
    "D = 2\n",
    "\n",
    "# Sample the features from a Multivariate Normal Dist.\n",
    "mean1 = [13.,5.]\n",
    "mean2 = [5.,5.]\n",
    "covariance = [[13.,5.],[5.,13.]]\n",
    "class1_features = np.random.multivariate_normal(mean1, covariance, int(N/2))\n",
    "class2_features = np.random.multivariate_normal(mean2, covariance, int(N/2))\n",
    "features = np.vstack((class1_features, class2_features))\n",
    "\n",
    "# add column of ones for bias term\n",
    "features = np.hstack((features,np.ones((N,1))))\n",
    "\n",
    "# Set the class labels\n",
    "class1_labels = [0]*int(N/2)\n",
    "class2_labels = [1]*int(N/2)\n",
    "class_labels = class1_labels+class2_labels\n",
    "\n",
    "# shuffle the data\n",
    "shuffle_in_unison(features, class_labels)\n",
    "class_labels = np.array(class_labels)[np.newaxis].T"
   ]
  },
  {
   "cell_type": "markdown",
   "metadata": {},
   "source": [
    "Now visualize the data with color-codes for each class..."
   ]
  },
  {
   "cell_type": "code",
   "execution_count": 18,
   "metadata": {},
   "outputs": [
    {
     "data": {
      "image/png": "[encoded data removed]",
      "text/plain": [
       "<matplotlib.figure.Figure at 0x108c5ec88>"
      ]
     },
     "metadata": {},
     "output_type": "display_data"
    }
   ],
   "source": [
    "# visualize the data\n",
    "plt.scatter(class1_features[:, 0], class1_features[:, 1], c='b', edgecolors='k', s=70, label=\"Class #1\")\n",
    "plt.scatter(class2_features[:, 0], class2_features[:, 1], c='r', edgecolors='k', s=70, label=\"Class #2\")\n",
    "\n",
    "plt.legend(loc=2)\n",
    "plt.xlabel(\"Feature 1\")\n",
    "plt.ylabel(\"Feature 2\")\n",
    "plt.show()"
   ]
  },
  {
   "cell_type": "markdown",
   "metadata": {},
   "source": [
    "## 2.  Logistic Regression: A Summary\n",
    "\n",
    "_**Data**_\n",
    "\n",
    "We observe pairs $(\\mathbf{x}_{i},y_{i})$ where\n",
    "\\begin{eqnarray*}\n",
    "y_{i} \\in \\{ 0, 1\\} &:& \\mbox{class label} \\\\\n",
    "\\mathbf{x}_{i} = (1, x_{i,1}, \\dots, x_{i,D}) &:& \\mbox{set of $D$ explanatory variables (aka features) and a bias term } \n",
    "\\end{eqnarray*}\n",
    "\n",
    "_** Parameters**_\n",
    "\n",
    "\\begin{eqnarray*}\n",
    "\\mathbf{\\beta}^{T} = (\\beta_{0}, \\dots, \\beta_{D}) : \\mbox{values encoding the relationship between the features and label}\n",
    "\\end{eqnarray*}\n",
    "\n",
    "_** Transformation Function **_\n",
    "\n",
    "\\begin{equation*}\n",
    "f(z_{i}=\\mathbf{x}_{i} \\mathbf{\\beta} ) = (1+e^{-\\mathbf{x}_{i} \\mathbf{\\beta} })^{-1}\n",
    "\\end{equation*}"
   ]
  },
  {
   "cell_type": "code",
   "execution_count": 19,
   "metadata": {},
   "outputs": [
    {
     "data": {
      "image/png": "[encoded data removed]",
      "text/plain": [
       "<matplotlib.figure.Figure at 0x108c837b8>"
      ]
     },
     "metadata": {},
     "output_type": "display_data"
    }
   ],
   "source": [
    "# define the transformation function\n",
    "def logistic(z):\n",
    "    # return the output of the logistic function\n",
    "    return 1/(1+np.exp(-z))\n",
    "\n",
    "# graph the function \n",
    "z = np.linspace(-6,6,50)\n",
    "logistic_out = logistic(z)\n",
    "\n",
    "# TO DO: write the line of code to plot the function\n",
    "plt.plot(z, logistic_out, 'b-')\n",
    "\n",
    "plt.title(\"Logistic Function\")\n",
    "plt.xlabel('Input')\n",
    "plt.ylabel('Output')\n",
    "plt.show()"
   ]
  },
  {
   "cell_type": "markdown",
   "metadata": {},
   "source": [
    "_**Error Function**_\n",
    "\n",
    "\\begin{eqnarray*}\n",
    "\\mathcal{L} = \\sum_{i=1}^{N} -y_{i} \\log f(\\mathbf{x}_{i} \\mathbf{\\beta} ) - (1-y_{i}) \\log (1-f(\\mathbf{x}_{i} \\mathbf{\\beta} ))\n",
    "\\end{eqnarray*}"
   ]
  },
  {
   "cell_type": "code",
   "execution_count": 20,
   "metadata": {},
   "outputs": [],
   "source": [
    "### compute the cross-entropy error \n",
    "# labels: Numpy array containing the true class labels\n",
    "# f: column vector of predictions (i.e. output of logistic function)\n",
    "def cross_entropy(labels, f):\n",
    "    return np.sum(-1*np.multiply(labels,np.log(f)) - np.multiply((np.ones(N)-labels),np.log(np.ones(N)-f)))"
   ]
  },
  {
   "cell_type": "markdown",
   "metadata": {},
   "source": [
    "_** Learning $\\beta$ **_\n",
    "\n",
    "Learning (or *estimating*) a Logistic Regression model will entail minimizing the error function $\\mathcal{L}$ above.  $\\beta$ can't be solved for in closed form (i.e. exactly) so we use the Gradient Descent algorithm instead:  \n",
    "- Randomly initialize $\\beta$\n",
    "- Until $\\alpha || \\nabla \\mathcal{L} || < tol $:\n",
    "    - $\\mathbf{\\beta}_{t+1} = \\mathbf{\\beta}_{t} - \\alpha \\nabla_{\\mathbf{\\beta}} \\mathcal{L}$\n",
    "\n",
    "$\\alpha$ above denotes a *learning rate*, which says how far to step when doing each gradient update.  The derivative of $\\mathcal{L}$ with respect to $\\beta$ is calculated as:\n",
    "\n",
    "\\begin{eqnarray*}\n",
    "\\frac{\\partial \\mathcal{L}_{i}}{\\partial \\mathbf{\\beta}} &=& \\frac{\\partial \\mathcal{L}_{i}}{\\partial f(z_{i})} \\frac{\\partial f(z_{i})}{\\partial z_{i}} \\frac{\\partial z_{i}}{\\partial \\mathbf{\\beta}}\\\\\n",
    "&=& \\left[\\frac{-y_{i}}{f(\\mathbf{x}_{i} \\mathbf{\\beta})} - \\frac{y_{i}-1}{1-f(\\mathbf{x}_{i} \\mathbf{\\beta})} \\right] f(\\mathbf{x}_{i} \\mathbf{\\beta})(1-f(\\mathbf{x}_{i} \\mathbf{\\beta}))\\mathbf{x}_{i}\\\\\n",
    "&=& [-y_{i}(1-f(\\mathbf{x}_{i} \\mathbf{\\beta} )) - (y_{i}-1)f(\\mathbf{x}_{i} \\mathbf{\\beta} )]\\mathbf{x}_{i}\\\\\n",
    "&=& [f(\\mathbf{x}_{i} \\mathbf{\\beta} ) - y_{i}]\\mathbf{x}_{i}\n",
    "\\end{eqnarray*}"
   ]
  },
  {
   "cell_type": "code",
   "execution_count": 21,
   "metadata": {},
   "outputs": [],
   "source": [
    "### compute the gradient (derivative w.r.t. Beta)\n",
    "# features: NxD feature matrix\n",
    "# labels: Numpy array containing the true class labels\n",
    "# f: column vector of predictions (i.e. output of logistic function)\n",
    "def compute_Gradient(features, labels, f):\n",
    "    return np.sum(np.multiply(f-labels,features),0)[np.newaxis].T"
   ]
  },
  {
   "cell_type": "markdown",
   "metadata": {},
   "source": [
    "_** Putting it all together in a simple example... **_  "
   ]
  },
  {
   "cell_type": "code",
   "execution_count": 22,
   "metadata": {
    "scrolled": false
   },
   "outputs": [
    {
     "name": "stdout",
     "output_type": "stream",
     "text": [
      "Training ended after 300 iterations, taking a total of 0.74 seconds.\n",
      "Final Cross-Entropy Error: 58199.60\n",
      "Classification Error on Training Set: 13.75%\n"
     ]
    },
    {
     "data": {
      "image/png": "[encoded data removed]",
      "text/plain": [
       "<matplotlib.figure.Figure at 0x10c3fe128>"
      ]
     },
     "metadata": {},
     "output_type": "display_data"
    }
   ],
   "source": [
    "# set the random number generator for reproducability\n",
    "np.random.seed(49)\n",
    "\n",
    "# Randomly initialize the Beta vector\n",
    "beta = np.random.multivariate_normal([0,0,0], [[1,0,0],[0,1,0],[0,0,1]], 1).T\n",
    "# Initialize the step-size\n",
    "alpha = 0.00001\n",
    "# Initialize the gradient\n",
    "grad = np.infty\n",
    "# Set the tolerance \n",
    "tol = 1e-6\n",
    "# Initialize error\n",
    "old_error = 0\n",
    "error = [np.infty]\n",
    "\n",
    "# Run Gradient Descent\n",
    "start_time = time.time()\n",
    "iter_idx = 1\n",
    "# loop until gradient updates become small\n",
    "while (alpha*np.linalg.norm(grad) > tol) and (iter_idx < 300):\n",
    "    f = logistic(np.dot(features,beta))\n",
    "    old_error = error[-1]\n",
    "    # track the error\n",
    "    error.append(cross_entropy(class_labels, f)) \n",
    "    grad = compute_Gradient(features, class_labels, f)\n",
    "    # update parameters\n",
    "    beta = beta - alpha*grad\n",
    "    iter_idx += 1\n",
    "end_time = time.time()\n",
    "print(\"Training ended after %i iterations, taking a total of %.2f seconds.\" %(iter_idx, end_time-start_time))\n",
    "print(\"Final Cross-Entropy Error: %.2f\" %(error[-1]))\n",
    "\n",
    "# compute error on training data\n",
    "predictions = logistic(np.dot(features, beta))\n",
    "print(\"Classification Error on Training Set: %.2f%%\" %(calc_classification_error(predictions, class_labels) * 100))\n",
    "\n",
    "# generate the plot\n",
    "plot_classification_data(class1_features, class2_features, beta, logistic_flag=True)"
   ]
  },
  {
   "cell_type": "markdown",
   "metadata": {},
   "source": [
    "## 3.  Logistic Regression with SciKit-Learn \n",
    "\n",
    "[Here is the documentation for SciKit-Learn's implementation of Logistic Regression](http://scikit-learn.org/stable/modules/generated/sklearn.linear_model.LogisticRegression.html)\n",
    "\n",
    "It's quite easy to use.  Let's jump right in and repeat the above experiments."
   ]
  },
  {
   "cell_type": "code",
   "execution_count": 23,
   "metadata": {
    "scrolled": true
   },
   "outputs": [
    {
     "name": "stdout",
     "output_type": "stream",
     "text": [
      "Training ended after 0.00 seconds.\n",
      "Classification Error on Training Set: 9.75%\n"
     ]
    },
    {
     "data": {
      "image/png": "[encoded data removed]",
      "text/plain": [
       "<matplotlib.figure.Figure at 0x10c42a400>"
      ]
     },
     "metadata": {},
     "output_type": "display_data"
    }
   ],
   "source": [
    "from sklearn.linear_model import LogisticRegression\n",
    "\n",
    "# set the random number generator for reproducability\n",
    "np.random.seed(75)\n",
    "\n",
    "#Initialize the model\n",
    "skl_LogReg = LogisticRegression()\n",
    "\n",
    "#Train it\n",
    "start_time = time.time()\n",
    "skl_LogReg.fit(features, np.ravel(class_labels))\n",
    "end_time = time.time()\n",
    "print(\"Training ended after %.2f seconds.\" %(end_time-start_time))\n",
    "\n",
    "# compute the classification error on training data\n",
    "predictions = skl_LogReg.predict(features)\n",
    "print(\"Classification Error on Training Set: %.2f%%\" %(calc_classification_error(predictions, class_labels) * 100))\n",
    "\n",
    "# generate the plot\n",
    "plot_classification_data(class1_features, class2_features, skl_LogReg.coef_.T, logistic_flag=True)"
   ]
  },
  {
   "cell_type": "markdown",
   "metadata": {},
   "source": [
    "# Experiments\n",
    "\n",
    "## 4.  Dataset #1: NBA Shot Outcomes\n",
    "\n",
    "The first real dataset we'll tackle is one describing the location and outcome of shots taken in professional basketball games.  Let's use Pandas to load and examine the data.    "
   ]
  },
  {
   "cell_type": "code",
   "execution_count": 24,
   "metadata": {},
   "outputs": [
    {
     "data": {
      "text/html": [
       "<div>\n",
       "<style scoped>\n",
       "    .dataframe tbody tr th:only-of-type {\n",
       "        vertical-align: middle;\n",
       "    }\n",
       "\n",
       "    .dataframe tbody tr th {\n",
       "        vertical-align: top;\n",
       "    }\n",
       "\n",
       "    .dataframe thead th {\n",
       "        text-align: right;\n",
       "    }\n",
       "</style>\n",
       "<table border=\"1\" class=\"dataframe\">\n",
       "  <thead>\n",
       "    <tr style=\"text-align: right;\">\n",
       "      <th></th>\n",
       "      <th>x_Coordinate</th>\n",
       "      <th>y_Coordinate</th>\n",
       "      <th>shot_outcome</th>\n",
       "    </tr>\n",
       "  </thead>\n",
       "  <tbody>\n",
       "    <tr>\n",
       "      <th>0</th>\n",
       "      <td>26.0</td>\n",
       "      <td>32.0</td>\n",
       "      <td>0.0</td>\n",
       "    </tr>\n",
       "    <tr>\n",
       "      <th>1</th>\n",
       "      <td>25.0</td>\n",
       "      <td>24.0</td>\n",
       "      <td>0.0</td>\n",
       "    </tr>\n",
       "    <tr>\n",
       "      <th>2</th>\n",
       "      <td>25.0</td>\n",
       "      <td>6.0</td>\n",
       "      <td>1.0</td>\n",
       "    </tr>\n",
       "    <tr>\n",
       "      <th>3</th>\n",
       "      <td>40.0</td>\n",
       "      <td>7.0</td>\n",
       "      <td>1.0</td>\n",
       "    </tr>\n",
       "    <tr>\n",
       "      <th>4</th>\n",
       "      <td>12.0</td>\n",
       "      <td>13.0</td>\n",
       "      <td>1.0</td>\n",
       "    </tr>\n",
       "  </tbody>\n",
       "</table>\n",
       "</div>"
      ],
      "text/plain": [
       "   x_Coordinate  y_Coordinate  shot_outcome\n",
       "0          26.0          32.0           0.0\n",
       "1          25.0          24.0           0.0\n",
       "2          25.0           6.0           1.0\n",
       "3          40.0           7.0           1.0\n",
       "4          12.0          13.0           1.0"
      ]
     },
     "execution_count": 24,
     "metadata": {},
     "output_type": "execute_result"
    }
   ],
   "source": [
    "nba_shot_data = pd.read_csv('./data/nba_experiment/NBA_xy_features.csv')\n",
    "nba_shot_data.head()"
   ]
  },
  {
   "cell_type": "code",
   "execution_count": 25,
   "metadata": {},
   "outputs": [
    {
     "data": {
      "text/html": [
       "<div>\n",
       "<style scoped>\n",
       "    .dataframe tbody tr th:only-of-type {\n",
       "        vertical-align: middle;\n",
       "    }\n",
       "\n",
       "    .dataframe tbody tr th {\n",
       "        vertical-align: top;\n",
       "    }\n",
       "\n",
       "    .dataframe thead th {\n",
       "        text-align: right;\n",
       "    }\n",
       "</style>\n",
       "<table border=\"1\" class=\"dataframe\">\n",
       "  <thead>\n",
       "    <tr style=\"text-align: right;\">\n",
       "      <th></th>\n",
       "      <th>x_Coordinate</th>\n",
       "      <th>y_Coordinate</th>\n",
       "      <th>shot_outcome</th>\n",
       "    </tr>\n",
       "  </thead>\n",
       "  <tbody>\n",
       "    <tr>\n",
       "      <th>count</th>\n",
       "      <td>562538.000000</td>\n",
       "      <td>562538.000000</td>\n",
       "      <td>562538.000000</td>\n",
       "    </tr>\n",
       "    <tr>\n",
       "      <th>mean</th>\n",
       "      <td>25.178772</td>\n",
       "      <td>13.496301</td>\n",
       "      <td>0.458145</td>\n",
       "    </tr>\n",
       "    <tr>\n",
       "      <th>std</th>\n",
       "      <td>11.212500</td>\n",
       "      <td>8.651198</td>\n",
       "      <td>0.498246</td>\n",
       "    </tr>\n",
       "    <tr>\n",
       "      <th>min</th>\n",
       "      <td>-3.000000</td>\n",
       "      <td>1.000000</td>\n",
       "      <td>0.000000</td>\n",
       "    </tr>\n",
       "    <tr>\n",
       "      <th>25%</th>\n",
       "      <td>19.000000</td>\n",
       "      <td>6.000000</td>\n",
       "      <td>0.000000</td>\n",
       "    </tr>\n",
       "    <tr>\n",
       "      <th>50%</th>\n",
       "      <td>25.000000</td>\n",
       "      <td>10.000000</td>\n",
       "      <td>0.000000</td>\n",
       "    </tr>\n",
       "    <tr>\n",
       "      <th>75%</th>\n",
       "      <td>31.000000</td>\n",
       "      <td>21.000000</td>\n",
       "      <td>1.000000</td>\n",
       "    </tr>\n",
       "    <tr>\n",
       "      <th>max</th>\n",
       "      <td>51.000000</td>\n",
       "      <td>94.000000</td>\n",
       "      <td>1.000000</td>\n",
       "    </tr>\n",
       "  </tbody>\n",
       "</table>\n",
       "</div>"
      ],
      "text/plain": [
       "        x_Coordinate   y_Coordinate   shot_outcome\n",
       "count  562538.000000  562538.000000  562538.000000\n",
       "mean       25.178772      13.496301       0.458145\n",
       "std        11.212500       8.651198       0.498246\n",
       "min        -3.000000       1.000000       0.000000\n",
       "25%        19.000000       6.000000       0.000000\n",
       "50%        25.000000      10.000000       0.000000\n",
       "75%        31.000000      21.000000       1.000000\n",
       "max        51.000000      94.000000       1.000000"
      ]
     },
     "execution_count": 25,
     "metadata": {},
     "output_type": "execute_result"
    }
   ],
   "source": [
    "nba_shot_data.describe()"
   ]
  },
  {
   "cell_type": "markdown",
   "metadata": {},
   "source": [
    "Simple enough.  Now let's train a Logistic Regression model on it, leaving out a test set."
   ]
  },
  {
   "cell_type": "code",
   "execution_count": 26,
   "metadata": {},
   "outputs": [
    {
     "name": "stderr",
     "output_type": "stream",
     "text": [
      "/Users/enalisnick/anaconda/envs/cs175/lib/python3.5/site-packages/ipykernel_launcher.py:3: DeprecationWarning: \n",
      ".ix is deprecated. Please use\n",
      ".loc for label based indexing or\n",
      ".iloc for positional indexing\n",
      "\n",
      "See the documentation here:\n",
      "http://pandas.pydata.org/pandas-docs/stable/indexing.html#ix-indexer-is-deprecated\n",
      "  This is separate from the ipykernel package so we can avoid doing imports until\n"
     ]
    },
    {
     "name": "stdout",
     "output_type": "stream",
     "text": [
      "Training ended after 0.54 seconds.\n",
      "Classification Error on the Test Set: 41.87%\n",
      "Baseline Error: 45.79%\n"
     ]
    },
    {
     "data": {
      "image/png": "[encoded data removed]",
      "text/plain": [
       "<matplotlib.figure.Figure at 0x1a17510198>"
      ]
     },
     "metadata": {},
     "output_type": "display_data"
    }
   ],
   "source": [
    "# split data into train and test\n",
    "train_set_size = int(.80*len(nba_shot_data))\n",
    "train_features = nba_shot_data.ix[:train_set_size,['x_Coordinate','y_Coordinate']]\n",
    "test_features = nba_shot_data.ix[train_set_size:,['x_Coordinate','y_Coordinate']]\n",
    "train_class_labels = nba_shot_data.ix[:train_set_size,['shot_outcome']]\n",
    "test_class_labels = nba_shot_data.ix[train_set_size:,['shot_outcome']]\n",
    "\n",
    "#Train it\n",
    "start_time = time.time()\n",
    "skl_LogReg.fit(train_features, np.ravel(train_class_labels))\n",
    "end_time = time.time()\n",
    "print(\"Training ended after %.2f seconds.\" %(end_time-start_time))\n",
    "\n",
    "# compute the classification error on training data\n",
    "predictions = skl_LogReg.predict(test_features)\n",
    "print(\"Classification Error on the Test Set: %.2f%%\" %(calc_classification_error(predictions, np.array(test_class_labels)) * 100))\n",
    "\n",
    "# compute the baseline error since the classes are imbalanced\n",
    "print(\"Baseline Error: %.2f%%\" %(np.sum(test_class_labels)/len(test_class_labels)*100))\n",
    "\n",
    "# visualize the boundary on the basketball court\n",
    "visualize_court(skl_LogReg)"
   ]
  },
  {
   "cell_type": "markdown",
   "metadata": {},
   "source": [
    "Not bad.  We're beating the random baseline of 45% error.  However, visualizing the decision boundary exposes a systemic problem with using a linear model on this dataset: it is not powerful enough to adapt to the geometry of the court.  This is a domain-specific contraint that should be considered when selecting the model and features.  For instance, a Gaussian-based classifier works a bit better, achieving 39.02% error.  Its decision boundary is visualized below."
   ]
  },
  {
   "cell_type": "markdown",
   "metadata": {},
   "source": [
    "<img src=\"https://raw.githubusercontent.com/enalisnick/NBA_shot_analysis/master/results/spatial_features_results/Gaussian_Mixture_Model.png\" alt=\"\" style=\"width: 250px;\"/>"
   ]
  },
  {
   "cell_type": "markdown",
   "metadata": {},
   "source": [
    "## 5.  Dataset #2: NBA Shot Outcomes Continued"
   ]
  },
  {
   "cell_type": "markdown",
   "metadata": {},
   "source": [
    "Can we do better by adding more features?  For instance, if we knew the position (Guard vs. Forward vs. Center) of the player taking the shot, would that help?  Let's try.  First, load a new dataset."
   ]
  },
  {
   "cell_type": "code",
   "execution_count": 27,
   "metadata": {},
   "outputs": [
    {
     "data": {
      "text/html": [
       "<div>\n",
       "<style scoped>\n",
       "    .dataframe tbody tr th:only-of-type {\n",
       "        vertical-align: middle;\n",
       "    }\n",
       "\n",
       "    .dataframe tbody tr th {\n",
       "        vertical-align: top;\n",
       "    }\n",
       "\n",
       "    .dataframe thead th {\n",
       "        text-align: right;\n",
       "    }\n",
       "</style>\n",
       "<table border=\"1\" class=\"dataframe\">\n",
       "  <thead>\n",
       "    <tr style=\"text-align: right;\">\n",
       "      <th></th>\n",
       "      <th>x_Coordinate</th>\n",
       "      <th>y_Coordinate</th>\n",
       "      <th>layup</th>\n",
       "      <th>dunk</th>\n",
       "      <th>3pt</th>\n",
       "      <th>hook</th>\n",
       "      <th>jumper</th>\n",
       "      <th>fade_away</th>\n",
       "      <th>Guard</th>\n",
       "      <th>Forward</th>\n",
       "      <th>Center</th>\n",
       "      <th>shot_outcome</th>\n",
       "    </tr>\n",
       "  </thead>\n",
       "  <tbody>\n",
       "    <tr>\n",
       "      <th>0</th>\n",
       "      <td>45.0</td>\n",
       "      <td>11.0</td>\n",
       "      <td>1.0</td>\n",
       "      <td>0.0</td>\n",
       "      <td>0.0</td>\n",
       "      <td>0.0</td>\n",
       "      <td>0.0</td>\n",
       "      <td>0.0</td>\n",
       "      <td>0.0</td>\n",
       "      <td>1.0</td>\n",
       "      <td>0.0</td>\n",
       "      <td>0.0</td>\n",
       "    </tr>\n",
       "    <tr>\n",
       "      <th>1</th>\n",
       "      <td>37.0</td>\n",
       "      <td>27.0</td>\n",
       "      <td>1.0</td>\n",
       "      <td>0.0</td>\n",
       "      <td>0.0</td>\n",
       "      <td>1.0</td>\n",
       "      <td>0.0</td>\n",
       "      <td>0.0</td>\n",
       "      <td>0.0</td>\n",
       "      <td>0.0</td>\n",
       "      <td>0.0</td>\n",
       "      <td>0.0</td>\n",
       "    </tr>\n",
       "    <tr>\n",
       "      <th>2</th>\n",
       "      <td>24.0</td>\n",
       "      <td>33.0</td>\n",
       "      <td>1.0</td>\n",
       "      <td>1.0</td>\n",
       "      <td>0.0</td>\n",
       "      <td>1.0</td>\n",
       "      <td>0.0</td>\n",
       "      <td>0.0</td>\n",
       "      <td>0.0</td>\n",
       "      <td>0.0</td>\n",
       "      <td>0.0</td>\n",
       "      <td>0.0</td>\n",
       "    </tr>\n",
       "    <tr>\n",
       "      <th>3</th>\n",
       "      <td>25.0</td>\n",
       "      <td>6.0</td>\n",
       "      <td>0.0</td>\n",
       "      <td>1.0</td>\n",
       "      <td>0.0</td>\n",
       "      <td>0.0</td>\n",
       "      <td>0.0</td>\n",
       "      <td>0.0</td>\n",
       "      <td>0.0</td>\n",
       "      <td>0.0</td>\n",
       "      <td>1.0</td>\n",
       "      <td>1.0</td>\n",
       "    </tr>\n",
       "    <tr>\n",
       "      <th>4</th>\n",
       "      <td>42.0</td>\n",
       "      <td>18.0</td>\n",
       "      <td>1.0</td>\n",
       "      <td>0.0</td>\n",
       "      <td>0.0</td>\n",
       "      <td>0.0</td>\n",
       "      <td>0.0</td>\n",
       "      <td>0.0</td>\n",
       "      <td>0.0</td>\n",
       "      <td>1.0</td>\n",
       "      <td>0.0</td>\n",
       "      <td>1.0</td>\n",
       "    </tr>\n",
       "  </tbody>\n",
       "</table>\n",
       "</div>"
      ],
      "text/plain": [
       "   x_Coordinate  y_Coordinate  layup  dunk  3pt  hook  jumper  fade_away  \\\n",
       "0          45.0          11.0    1.0   0.0  0.0   0.0     0.0        0.0   \n",
       "1          37.0          27.0    1.0   0.0  0.0   1.0     0.0        0.0   \n",
       "2          24.0          33.0    1.0   1.0  0.0   1.0     0.0        0.0   \n",
       "3          25.0           6.0    0.0   1.0  0.0   0.0     0.0        0.0   \n",
       "4          42.0          18.0    1.0   0.0  0.0   0.0     0.0        0.0   \n",
       "\n",
       "   Guard  Forward  Center  shot_outcome  \n",
       "0    0.0      1.0     0.0           0.0  \n",
       "1    0.0      0.0     0.0           0.0  \n",
       "2    0.0      0.0     0.0           0.0  \n",
       "3    0.0      0.0     1.0           1.0  \n",
       "4    0.0      1.0     0.0           1.0  "
      ]
     },
     "execution_count": 27,
     "metadata": {},
     "output_type": "execute_result"
    }
   ],
   "source": [
    "# first we need to extract the file from the zip\n",
    "import zipfile\n",
    "zip = zipfile.ZipFile('./data/nba_experiment/NBA_all_features.csv.zip')\n",
    "zip.extractall('./data/nba_experiment/')\n",
    "\n",
    "nba_all_features = pd.read_csv('./data/nba_experiment/NBA_all_features.csv')\n",
    "nba_all_features.head()"
   ]
  },
  {
   "cell_type": "markdown",
   "metadata": {},
   "source": [
    "One thing to notice is that this data is noisy.  Look at row 2 above; it says a player made a dunk from 33 feet above the baseline--that's beyond the three point line. \n",
    "\n",
    "Now let's train SciKit-Learn's Logistic Regression model on the *train_features* and *train_class_labels* and then compute the test classification error--which should be around 38%-39%. "
   ]
  },
  {
   "cell_type": "code",
   "execution_count": 28,
   "metadata": {},
   "outputs": [
    {
     "name": "stderr",
     "output_type": "stream",
     "text": [
      "/Users/enalisnick/anaconda/envs/cs175/lib/python3.5/site-packages/ipykernel_launcher.py:2: DeprecationWarning: \n",
      ".ix is deprecated. Please use\n",
      ".loc for label based indexing or\n",
      ".iloc for positional indexing\n",
      "\n",
      "See the documentation here:\n",
      "http://pandas.pydata.org/pandas-docs/stable/indexing.html#ix-indexer-is-deprecated\n",
      "  \n"
     ]
    },
    {
     "name": "stdout",
     "output_type": "stream",
     "text": [
      "Training ended after 1.74 seconds.\n",
      "Classification Error on the Test Set: 38.95%\n",
      "Baseline Error: 45.91%\n"
     ]
    }
   ],
   "source": [
    "# split data into train and test\n",
    "train_features = nba_all_features.ix[:train_set_size,:'Center']\n",
    "test_features = nba_all_features.ix[train_set_size:,:'Center']\n",
    "train_class_labels = nba_all_features.ix[:train_set_size,['shot_outcome']]\n",
    "test_class_labels = nba_all_features.ix[train_set_size:,['shot_outcome']]\n",
    "\n",
    "#Train it\n",
    "start_time = time.time()\n",
    "skl_LogReg.fit(train_features, np.ravel(train_class_labels))\n",
    "end_time = time.time()\n",
    "print(\"Training ended after %.2f seconds.\" %(end_time-start_time))\n",
    "\n",
    "# compute the classification error on training data\n",
    "predictions = skl_LogReg.predict(test_features)\n",
    "print(\"Classification Error on the Test Set: %.2f%%\" %(calc_classification_error(predictions, np.array(test_class_labels)) * 100))\n",
    "\n",
    "# compute the baseline error since the classes are imbalanced\n",
    "print(\"Baseline Error: %.2f%%\" %(np.sum(test_class_labels)/len(test_class_labels)*100))\n",
    "\n",
    "# we can't visualize since D>2"
   ]
  },
  {
   "cell_type": "markdown",
   "metadata": {},
   "source": [
    "Great!  We've improved by a few percentage points.  Let's look at which features the model weighted."
   ]
  },
  {
   "cell_type": "code",
   "execution_count": 29,
   "metadata": {},
   "outputs": [
    {
     "name": "stdout",
     "output_type": "stream",
     "text": [
      "x_Coordinate: -0.00\n",
      "y_Coordinate: -0.01\n",
      "layup: -0.00\n",
      "dunk: -0.04\n",
      "3pt: -0.05\n",
      "hook: 0.27\n",
      "jumper: 0.86\n",
      "fade_away: 0.76\n",
      "Guard: 0.90\n",
      "Forward: 0.28\n",
      "Center: 3.08\n"
     ]
    }
   ],
   "source": [
    "for idx, feature in enumerate(nba_all_features):\n",
    "    if idx<11:\n",
    "        print(\"%s: %.2f\" %(feature, skl_LogReg.coef_[0][idx]))"
   ]
  },
  {
   "cell_type": "markdown",
   "metadata": {},
   "source": [
    "Interestingly, the classifier exploited the location features very little.  The position of the player was much more important, especially if he was a center. \n",
    "\n",
    "## 6.  Dataset #3: 20 News Groups\n",
    "\n",
    "For the second experiment, we'll work with the very popular '20 News Groups' dataset consisting of, well, 20 different categories of articles.  SciKit-Learn already has it ready for import."
   ]
  },
  {
   "cell_type": "code",
   "execution_count": 30,
   "metadata": {},
   "outputs": [
    {
     "name": "stdout",
     "output_type": "stream",
     "text": [
      "The training data size is (1079, 1000)\n",
      "The test data size is (717, 1000)\n",
      "Example text:\n",
      "Library of Congress to Host Dead Sea Scroll Symposium April 21-22\n",
      " To: National and Assignment desks, Daybook Editor\n",
      " Contact: John Sullivan, 202-707-9216, or Lucy Suddreth, 202-707-9191\n",
      "          both of the Library of Congress\n",
      "\n",
      "   WASHINGTON, April 19  -- A symposium on the Dead Sea \n",
      "Scrolls will be held at the Library of Congress on Wednesday,\n",
      "April 21, and Thursday, April 22.  The two-day program, cosponsored\n",
      "by the library and Baltimore Hebrew University, with additional\n",
      "support from the Pr\n",
      "\n",
      "Example count vector:\n",
      "[[ 0  0  1  0  1  0  0  0  0  0  1  0  5  3  0  0  0  0  3  0  0  0  0  0\n",
      "   0  0  0  0  0  0  0  0  0  0  0  0  0  2  0  0  0  0  0  0  0  0  0  0\n",
      "   0  0  3  0  0  1  0  0  0  0  0  0  0  0  0  0  9  0  0  0  0  0  0  0\n",
      "   0  0  0  0  0  0  0  0  0  0  0  0  0  0  0  0  0  0  3  0  0  0  0  0\n",
      "   0  0  0  0  0  0  0  1  0  0  0  0  0  0  0  0  0  0  0  0  2  3  0  0\n",
      "   0  0  0  0  0  0  0  0  1  0  0  0  0  0  0  0  0  0  0  0  0  0  0  0\n",
      "   0  0  0  0  0  0  0  0  0  0  0  0  0  0  0  0  0  0  0  0  1  0  0  0\n",
      "   0  0  0  0  0  0  0  0  1  0  0  0  0  0  0  0  0  0  0  0  1  0  0  0\n",
      "   0  0  0  0  0  0  0  0  0  0  0  0  0  0  0  0  0  0  0  0  0  0  0  0\n",
      "   0  0  0  0  0  0  0  0  0  0  0  0  0  0  0  0  3  0  0  0  2  0  7  0\n",
      "   0  0  0  0  0  0  0  0  0  0  0  0  0  0  0  0  0  0  0  0  0  0  0  0\n",
      "   0  0  0  0  0  0  0  1  0  0  0  0  0  0  0  0  0  0  1  0  1  0  0  0\n",
      "   0  0  0  1  0  0  0  0  0  0  0  0  0  0  0  1  0  0  0  0  0  0  0  0\n",
      "   0  0  0  0  0  0  0  0  0  0  0  0  0  0  0  0  0  0  0  0  0  0  0  0\n",
      "   0  0  0  0  0  0  0  0  0  0  2  0  0  0  0  0  0  0  0  0  0  0  0  0\n",
      "   0  0  0  0  0  1  2  0  0  0  0  0  0  0  0  0  0  0  0  0  0  0  0  0\n",
      "   0  0  0  0  0  0  0  0  0  0  0  0  0  2  0  0  0  0  6  0  3  0  0  0\n",
      "   0  0  2  0  1  0  0  0  0  0  0  0  0  0  0  0  0  0  0  0  0  0  3  1\n",
      "   0  0  0  1  0  0  0  0  0  0  0  0  0  0  0  0  0  0  0  4  0  0  3  4\n",
      "   0  4  0  0  0  1  1  0  0  0  0  0  0  0  0  0  0  0  0  0  0  0  0  0\n",
      "   0  0  0  0  0  0  0  0  0  0  0  0  0  0  0  0  0  0  0  0  0  0  0  0\n",
      "   0 13  0  0  0  0  0  0  0  0  0  0  0  0  0  0  0  0  0  0  0  0  0  0\n",
      "   0  0  0  0  0  0  1  0  0  0  0  0  0  0  0  0  0  0  0  0  0  0  0  0\n",
      "   0  1  0  0  0  0  0  0  0  0  0  0  3  1  0  0  0  0  0  1  0  0  0  0\n",
      "   0  0  0  0  0  0  0  0  0  0  0  0  0  0  0  0  0  1  0  0  0  0  0  2\n",
      "   0  0  0  0  0  0  0  0  0  0  0  0  0  0  0  0  0  0  0  0  0  0  0  0\n",
      "   0  0  0  0  0  0  0  0  0  0  0  0  0  0  0  0  0  0  0  0  0  0  0  0\n",
      "   0  0  0  0  0  0  0  0  0  0  0  0  0  1  0  0  0  0  0  0  0  0  0  0\n",
      "   0  0  0  0  0  0  0  0  0  0  0  0  0  0  0  0  0  0  0  0  0  0  0  0\n",
      "   0  0  2  0  0  0  1  0  0  0  0  0  0  0  0  0  0  0  0  0  0  0  0  0\n",
      "   0  0  0  0  0  0  0  0  0  0  0  0  0  0  0  0  0  0  2  0  0  0  0  0\n",
      "   0  2  0  0  0  0  0  0  0  0  0  0  0  0  0  0  0  0  0  2  0  0  0  0\n",
      "   0  0  0  0  0  0  0  0  0  0  0  0  1  0  0  0  0  1  7  1  0  0  0  0\n",
      "   0  0  0  0  0  0  0  0  0  0  0  0  0  0  0  0  0  0  0  0  0  0  0  0\n",
      "   0  0  0  0  0  0  0  0  0  0  0  0  0  0  0  0  0  0  2  0  0  0  0  0\n",
      "   0  0  1  0  0  0  1  0  0  0  0  0  0  0  0  0  0  0  0  0  0  0  0  0\n",
      "   0  0  1  0  0  0  0  0  0  0  0  0  0  0  0  0  0  0  0  0  0  0  0  0\n",
      "   0  0  0  0  0  0  0  0  0  0  0  0  0  1  0  0  0  0  0  0  1  0  0  1\n",
      "   0  1  0  0  0  0  0  0  0  0  0  0  0  0  0  0  0  0  0  0  0  0  0  0\n",
      "   0  0  0  0 12  0  0  0  0  0  0  0  0  0  0  0  0  0  0  0  2  1  0  0\n",
      "   0  0  0  0  0  0  0  1  0  0  0  0  0  0  0  0  0  0  0  0  0  0  0  0\n",
      "   0  0  0  0  0  0  2  0  0  0  0  0  0  0  0  0]]\n"
     ]
    }
   ],
   "source": [
    "from sklearn.datasets import fetch_20newsgroups\n",
    "from sklearn.feature_extraction.text import CountVectorizer\n",
    "\n",
    "# use SciKit Learn's loading methods\n",
    "categories = ['soc.religion.christian', 'alt.atheism']\n",
    "train_20ng = fetch_20newsgroups(subset='train', remove=('headers', 'footers', 'quotes'), categories=categories)\n",
    "test_20ng = fetch_20newsgroups(subset='test', remove=('headers', 'footers', 'quotes'), categories=categories)\n",
    "\n",
    "# transform the text into word counts\n",
    "vectorizer = CountVectorizer(stop_words='english', max_features=1000)\n",
    "train_vectors = vectorizer.fit_transform(train_20ng.data)\n",
    "test_vectors = vectorizer.transform(test_20ng.data)\n",
    "\n",
    "train_targets = train_20ng.target\n",
    "test_targets = test_20ng.target\n",
    "\n",
    "print(\"The training data size is \"+str(train_vectors.shape))\n",
    "print(\"The test data size is \"+str(test_vectors.shape))\n",
    "# print the first 500 words of an article\n",
    "print(\"Example text:\")\n",
    "print(train_20ng.data[0][:500])\n",
    "print(\"\\nExample count vector:\")\n",
    "print(train_vectors[0].todense())"
   ]
  },
  {
   "cell_type": "markdown",
   "metadata": {},
   "source": [
    "As you can see, the vector is super sparse and very high dimensional--much different than the data we've been working with previously.  Let's see how SciKit-Learn's Logistic Regression model handles it.  "
   ]
  },
  {
   "cell_type": "code",
   "execution_count": 31,
   "metadata": {},
   "outputs": [
    {
     "name": "stdout",
     "output_type": "stream",
     "text": [
      "Training ended after 0.02 seconds.\n",
      "Classification Error on the Test Set: 23.99%\n",
      "Baseline Error: 44.49%\n"
     ]
    }
   ],
   "source": [
    "#Train it\n",
    "start_time = time.time()\n",
    "skl_LogReg.fit(train_vectors, train_targets)\n",
    "end_time = time.time()\n",
    "print(\"Training ended after %.2f seconds.\" %(end_time-start_time))\n",
    "\n",
    "# compute the classification error on training data\n",
    "predictions = skl_LogReg.predict(test_vectors)\n",
    "print(\"Classification Error on the Test Set: %.2f%%\" %(calc_classification_error(predictions, test_targets) * 100))\n",
    "\n",
    "# compute the baseline error since the classes are imbalanced\n",
    "print(\"Baseline Error: %.2f%%\" %(100 - sum(test_targets)*100./len(test_targets)))"
   ]
  },
  {
   "cell_type": "markdown",
   "metadata": {},
   "source": [
    "24% error is respectable, but there's still room for improvement.  In general, working with natural language is one of the hardest application domains in Machine Learning due to the fact that we often have to reduce the abstract, sometimes ambiguous semantic meaning to a superficial token.  "
   ]
  },
  {
   "cell_type": "markdown",
   "metadata": {},
   "source": [
    "## <span style=\"color:red\">STUDENT ACTIVITY</span>"
   ]
  },
  {
   "cell_type": "markdown",
   "metadata": {},
   "source": [
    "### Feature Engineering for 20 News Groups\n",
    "Can you beat the baseline error rate on the 20 News Groups dataset?  One way to do this is to have better features--word counts are rather blunt.  Go read about [TFIDF](http://www.tfidf.com/) and then use SciKit-Learn's [TFIDF Vectorizer](http://scikit-learn.org/stable/modules/generated/sklearn.feature_extraction.text.TfidfVectorizer.html) to compute a new feature matrix for the 20 News Groups dataset.  You should be able to get an error rate of about 40% if not better.  The code is started for you below."
   ]
  },
  {
   "cell_type": "code",
   "execution_count": 32,
   "metadata": {},
   "outputs": [
    {
     "name": "stdout",
     "output_type": "stream",
     "text": [
      "Classification Error on the Test Set: 23.99%\n",
      "Baseline Error: 44.49%\n"
     ]
    }
   ],
   "source": [
    "from sklearn.feature_extraction.text import TfidfVectorizer\n",
    "\n",
    "\n",
    "#### YOUR CODE GOES HERE\n",
    "\n",
    "\n",
    "print(\"Classification Error on the Test Set: %.2f%%\" %(calc_classification_error(predictions, test_targets) * 100))\n",
    "\n",
    "# compute the baseline error since the classes are imbalanced\n",
    "print(\"Baseline Error: %.2f%%\" %(100 - sum(test_targets)*100./len(test_targets)))"
   ]
  }
 ],
 "metadata": {
  "kernelspec": {
   "display_name": "Python 3",
   "language": "python",
   "name": "python3"
  },
  "language_info": {
   "codemirror_mode": {
    "name": "ipython",
    "version": 3
   },
   "file_extension": ".py",
   "mimetype": "text/x-python",
   "name": "python",
   "nbconvert_exporter": "python",
   "pygments_lexer": "ipython3",
   "version": "3.5.4"
  }
 },
 "nbformat": 4,
 "nbformat_minor": 1
}
